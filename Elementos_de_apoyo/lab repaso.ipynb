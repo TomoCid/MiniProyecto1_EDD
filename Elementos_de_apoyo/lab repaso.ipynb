{
 "cells": [
  {
   "attachments": {},
   "cell_type": "markdown",
   "metadata": {},
   "source": [
    "# Laboratorio de Repaso\n",
    "Oliver Brito Alarcón\n",
    "\n",
    "obrito2020@udec.cl \n",
    "\n",
    "17/04/2023"
   ]
  },
  {
   "attachments": {},
   "cell_type": "markdown",
   "metadata": {},
   "source": [
    "### Repasemos algunas cositas que deberían saber para el primer mini-proyecto..."
   ]
  },
  {
   "attachments": {},
   "cell_type": "markdown",
   "metadata": {},
   "source": [
    "#### Listas Ligadas\n",
    "Una lista ligada es una estructura de datos que consiste en una secuencia de nodos, cada uno de\n",
    "los cuales contiene un valor y una referencia al siguiente nodo en la secuencia. De esta manera, los\n",
    "nodos están ”ligados.entre s ́ı. La ventaja de las listas ligadas es que se pueden insertar o eliminar\n",
    "elementos de manera eficiente en cualquier posici ́on de la lista, mientras que en un arreglo se requiere\n",
    "un desplazamiento de elementos si se desea insertar o eliminar en posiciones intermedias. Sin embargo,\n",
    "el acceso a un elemento espec ́ıfico en una lista ligada es menos eficiente que en un arreglo, ya que se\n",
    "debe recorrer la lista desde el principio para llegar al elemento deseado."
   ]
  },
  {
   "attachments": {},
   "cell_type": "markdown",
   "metadata": {},
   "source": [
    "### ¿Cómo podemos hacer un nodo de una lista ligada?"
   ]
  },
  {
   "attachments": {},
   "cell_type": "markdown",
   "metadata": {},
   "source": [
    "Necesitamos almacenar enteros, un puntero al siguiente nodo, y un arreglo dinámico. Recordemos\n",
    "que un arreglo din ́amico funciona así:"
   ]
  },
  {
   "cell_type": "code",
   "execution_count": null,
   "metadata": {
    "vscode": {
     "languageId": "cpp"
    }
   },
   "outputs": [],
   "source": [
    " int* data = new int[b];"
   ]
  },
  {
   "attachments": {},
   "cell_type": "markdown",
   "metadata": {},
   "source": [
    "\"b\" en este contexto sería el tamaño de cada arreglo dentro de nuestros nodos. Sabiendo esto, vamos a declarar nuestros nodos..."
   ]
  },
  {
   "cell_type": "code",
   "execution_count": null,
   "metadata": {
    "vscode": {
     "languageId": "cpp"
    }
   },
   "outputs": [],
   "source": [
    " struct Node {\n",
    "        int *arr;\n",
    "        int b;\n",
    "        int num_elements;\n",
    "        Node *next;\n",
    "        \n",
    "        Node(int b) {\n",
    "            this->b = b;\n",
    "            num_elements = 0;\n",
    "            arr = new int[b];\n",
    "            next = nullptr;\n",
    "        }\n",
    "        \n",
    "        ~Node() {\n",
    "            delete[] arr;\n",
    "        }\n",
    "    };\n",
    "    "
   ]
  },
  {
   "attachments": {},
   "cell_type": "markdown",
   "metadata": {},
   "source": [
    "Este puede ser un ejemplo de un nodo de nuestra ListArr. ¿Cómo podríamos hacer los nodos que van a ser de \"Resumen\"? ¿Van a hacer nodos del mismo tipo o un tipo de nodo distinto?"
   ]
  },
  {
   "cell_type": "code",
   "execution_count": null,
   "metadata": {
    "vscode": {
     "languageId": "cpp"
    }
   },
   "outputs": [],
   "source": [
    "struct NodeSummary {\n",
    "    int total_capacity;\n",
    "    int total_size;\n",
    "    NodeSummary* left_child;\n",
    "    NodeSummary* right_child;\n",
    "};"
   ]
  },
  {
   "attachments": {},
   "cell_type": "markdown",
   "metadata": {},
   "source": [
    "¿Cómo podría ser el constructor/destructor de este nodo?"
   ]
  },
  {
   "attachments": {},
   "cell_type": "markdown",
   "metadata": {},
   "source": [
    "#### Una vez que ya tenemos los nodos que ocuparemos para nuestro proyecto, es momento de introducirnos al ADT de nuestra ListArr. Veamos entonces:"
   ]
  },
  {
   "cell_type": "code",
   "execution_count": null,
   "metadata": {
    "vscode": {
     "languageId": "cpp"
    }
   },
   "outputs": [],
   "source": [
    "class ListArr {\n",
    "public:\n",
    "    virtual int size()=0;\n",
    "    virtual void insert_left(int v)=0;\n",
    "    virtual void insert_right(int v)=0;\n",
    "    virtual void insert(int v, int i)=0;\n",
    "    virtual void print()=0;\n",
    "    virtual bool find(int v)=0;\n",
    "};"
   ]
  },
  {
   "attachments": {},
   "cell_type": "markdown",
   "metadata": {},
   "source": [
    "##### Empecemos entonces a implementar. ¿Qué cosas deberíamos incluir en \"private\"?"
   ]
  },
  {
   "cell_type": "code",
   "execution_count": null,
   "metadata": {
    "vscode": {
     "languageId": "cpp"
    }
   },
   "outputs": [],
   "source": [
    "class ListArr {\n",
    "private:\n",
    "    struct Node {\n",
    "        int *arr;\n",
    "        int b;\n",
    "        int num_elements;\n",
    "        Node *next;\n",
    "        \n",
    "        Node(int b) {\n",
    "            this->b = b;\n",
    "            num_elements = 0;\n",
    "            arr = new int[b];\n",
    "            next = nullptr;\n",
    "        }\n",
    "        \n",
    "        ~Node() {\n",
    "            delete[] arr;\n",
    "        }\n",
    "    };\n",
    "    \n",
    "    int b;\n",
    "    int num_elements;\n",
    "    Node *head;"
   ]
  },
  {
   "cell_type": "code",
   "execution_count": null,
   "metadata": {
    "vscode": {
     "languageId": "cpp"
    }
   },
   "outputs": [],
   "source": []
  }
 ],
 "metadata": {
  "language_info": {
   "name": "python"
  },
  "orig_nbformat": 4
 },
 "nbformat": 4,
 "nbformat_minor": 2
}
